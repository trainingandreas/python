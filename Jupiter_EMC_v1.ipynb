{
 "cells": [
  {
   "cell_type": "code",
   "execution_count": 1,
   "id": "marked-correction",
   "metadata": {},
   "outputs": [],
   "source": [
    "#import basic librarys \n",
    "import numpy as np #is used for mathematical formulas\n",
    "import matplotlib.pyplot as plt # is used for plot grafics\n",
    "\n",
    "\n",
    "#Time [ms] simulation    \n",
    "T = 20 \n",
    "#Number of samples\n",
    "N = 100\n",
    "#Time [ms] for Plot    \n",
    "t=np.linspace(0,T,N*T)\n",
    "\n",
    "#Define sinus funktion amplidude[x], frequency[Hz], angle in [degree], order[1,2,3,...,n]\n",
    "def sin(a,f,angle_deg,k):\n",
    "    phi=angle_deg*(np.pi/180)\n",
    "    x=a*np.sin(2*np.pi*f*k*t/1000+phi*k)\n",
    "    return x\n",
    "\n",
    "\n",
    "#Define Plot \n",
    "def graph(x,legend):\n",
    "    plt.plot(t,x,linewidth=2, label=legend)\n",
    "\n",
    "#Define Grid for PLots  \n",
    "def grid():\n",
    "    plt.legend(bbox_to_anchor=(1.02, 1), loc='upper left', borderaxespad=0)\n",
    "    plt.grid(b=True, color='black', linestyle='-',alpha=0.1)\n",
    "    plt.xlim(0, T)\n",
    "    plt.ylabel(r'$\\hat x$ [Amplitude]', fontsize='x-large')\n",
    "    axes1 = plt.gca()\n",
    "    axes1.set_xlabel(\"t [Time in ms]\", fontsize='x-large')  \n",
    "    \n",
    "\n",
    "    "
   ]
  },
  {
   "cell_type": "code",
   "execution_count": 2,
   "id": "anticipated-grounds",
   "metadata": {
    "scrolled": true
   },
   "outputs": [
    {
     "data": {
      "text/plain": [
       "\"\\n####dictionary####\\n\\n#Sinus like this\\ny=sin(230,50,45,1)\\n\\n#Basic polt\\ngraph('funktion','legend')\\n\\n#Basic plot title\\nplt.title('Sinus Funkion',fontsize='x-large')\\n\\n#print plot\\nplt.show()\\n\""
      ]
     },
     "execution_count": 2,
     "metadata": {},
     "output_type": "execute_result"
    }
   ],
   "source": [
    "'''\n",
    "####dictionary####\n",
    "\n",
    "#Sinus like this\n",
    "y=sin(230,50,45,1)\n",
    "\n",
    "#Basic polt\n",
    "graph('funktion','legend')\n",
    "\n",
    "#Basic plot title\n",
    "plt.title('Sinus Funkion',fontsize='x-large')\n",
    "\n",
    "#print plot\n",
    "plt.show()\n",
    "'''\n",
    "  "
   ]
  },
  {
   "cell_type": "code",
   "execution_count": 10,
   "id": "dutch-vacuum",
   "metadata": {},
   "outputs": [
    {
     "data": {
      "image/png": "[encoded data removed]",
      "text/plain": [
       "<Figure size 432x288 with 1 Axes>"
      ]
     },
     "metadata": {
      "needs_background": "light"
     },
     "output_type": "display_data"
    }
   ],
   "source": [
    "#example Sinus\n",
    "fx=sin(1,50,0,1) #use funktion (x=1, f=50Hz,phi=0°,1st Order)\n",
    "graph(fx,\"Sinus\")#use funktion for generating a graph\n",
    "fx2=sin(0.3,50,20,3) #use funktion (x=0,3, f=50Hz,phi=0°,3st Order)\n",
    "graph(fx2,\"Sinus 3.\")#use funktion for generating a graph\n",
    "plt.show()       #show the plot"
   ]
  },
  {
   "cell_type": "code",
   "execution_count": null,
   "id": "visible-giving",
   "metadata": {},
   "outputs": [],
   "source": []
  },
  {
   "cell_type": "code",
   "execution_count": null,
   "id": "characteristic-burlington",
   "metadata": {},
   "outputs": [],
   "source": []
  },
  {
   "cell_type": "code",
   "execution_count": null,
   "id": "standard-forwarding",
   "metadata": {},
   "outputs": [],
   "source": []
  },
  {
   "cell_type": "code",
   "execution_count": 13,
   "id": "right-knight",
   "metadata": {},
   "outputs": [
    {
     "name": "stdout",
     "output_type": "stream",
     "text": [
      "The watermark extension is already loaded. To reload it, use:\n",
      "  %reload_ext watermark\n",
      "Python implementation: CPython\n",
      "Python version       : 3.8.5\n",
      "IPython version      : 7.19.0\n",
      "\n",
      "pandas           : 1.2.0\n",
      "numpy            : 1.19.2\n",
      "matplotlib.pyplot: unknown\n",
      "watermark        : 2.2.0\n",
      "\n",
      "Compiler    : MSC v.1916 64 bit (AMD64)\n",
      "OS          : Windows\n",
      "Release     : 10\n",
      "Machine     : AMD64\n",
      "Processor   : Intel64 Family 6 Model 142 Stepping 9, GenuineIntel\n",
      "CPU cores   : 4\n",
      "Architecture: 64bit\n",
      "\n",
      " \n",
      "Last updated: Wed Feb 24 2021 14:54:16Mitteleuropäische Zeit\n",
      "\n"
     ]
    }
   ],
   "source": [
    "%load_ext watermark\n",
    "\n",
    "# python, ipython, packages, and machine characteristics\n",
    "%watermark -v -m -p pandas,numpy,matplotlib.pyplot,watermark \n",
    "\n",
    "# date\n",
    "print (\" \")\n",
    "%watermark -u -n -t -z "
   ]
  },
  {
   "cell_type": "code",
   "execution_count": null,
   "id": "desperate-racing",
   "metadata": {},
   "outputs": [],
   "source": []
  }
 ],
 "metadata": {
  "kernelspec": {
   "display_name": "Python 3",
   "language": "python",
   "name": "python3"
  },
  "language_info": {
   "codemirror_mode": {
    "name": "ipython",
    "version": 3
   },
   "file_extension": ".py",
   "mimetype": "text/x-python",
   "name": "python",
   "nbconvert_exporter": "python",
   "pygments_lexer": "ipython3",
   "version": "3.8.5"
  }
 },
 "nbformat": 4,
 "nbformat_minor": 5
}
